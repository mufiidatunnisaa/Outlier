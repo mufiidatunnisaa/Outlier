{
 "cells": [
  {
   "cell_type": "code",
   "execution_count": 11,
   "metadata": {},
   "outputs": [],
   "source": [
    "import pandas as pd\n",
    "from random import randint\n",
    "import numpy as np\n",
    "\n",
    "filename = 'RisetOperasi'\n",
    "dw = pd.read_csv(filename+'.csv', delimiter='\\t')\n",
    "\n",
    "Angka = []\n",
    "for i,value in enumerate(dw.iloc[:,3]):\n",
    "    if value == \" A \":\n",
    "        Angka.append(randint(81,100))\n",
    "    elif value == \" AB \":\n",
    "        Angka.append(randint(71,80))\n",
    "    elif value == \" B \":\n",
    "        Angka.append(randint(66,70))\n",
    "    elif value == \" BC \":\n",
    "        Angka.append(randint(61,65))\n",
    "    elif value == \" C \":\n",
    "        Angka.append(randint(56,60))\n",
    "    elif value == \" D \":\n",
    "        Angka.append(randint(41,55))\n",
    "    elif value == \" E \":\n",
    "        Angka.append(randint(0,40))\n",
    "    else:\n",
    "        Angka.append(randint(60,100))\n",
    "dw['Angka'] = Angka\n",
    "\n",
    "sort = dw['Angka'].sort_values(ascending=True)\n"
   ]
  },
  {
   "cell_type": "code",
   "execution_count": 12,
   "metadata": {},
   "outputs": [
    {
     "name": "stdout",
     "output_type": "stream",
     "text": [
      "Mata Kuliah RisetOperasi\n",
      "Q1 :  66.5\n",
      "Q3 :  87.0\n",
      "inter Quartile :  20.5\n",
      "\n",
      "Minor Low  :  35.75\n",
      "Minor High :  117.75\n",
      "\n",
      "Major Low  :  5.0\n",
      "Major High :  148.5\n",
      "\n",
      "Minor Outlier\n",
      "Empty DataFrame\n",
      "Columns: [No, NRP, NAMA, Nilai, Angka]\n",
      "Index: []\n",
      "\n",
      "Major Outlier\n",
      "Empty DataFrame\n",
      "Columns: [No, NRP, NAMA, Nilai, Angka]\n",
      "Index: []\n"
     ]
    }
   ],
   "source": [
    "print(\"Mata Kuliah \"+filename)\n",
    "Q1 = np.percentile(sort,25)\n",
    "Q3 = np.percentile(sort,75)\n",
    "print(\"Q1 : \",Q1)\n",
    "print(\"Q3 : \",Q3)\n",
    "interQuartilRange = Q3 - Q1\n",
    "print(\"inter Quartile : \",interQuartilRange)\n",
    "inner = 1.5\n",
    "outer = 3\n",
    "\n",
    "minorLow = Q1 - inner*interQuartilRange\n",
    "minorHigh = Q3 + inner*interQuartilRange\n",
    "print(\"\\nMinor Low  : \",minorLow)\n",
    "print(\"Minor High : \",minorHigh)\n",
    "\n",
    "majorLow = Q1 - outer*interQuartilRange\n",
    "majorHigh = Q3 + outer*interQuartilRange\n",
    "print(\"\\nMajor Low  : \",majorLow)\n",
    "print(\"Major High : \",majorHigh)\n",
    "\n",
    "print('\\nMinor Outlier')\n",
    "print(dw[(dw['Angka'] < minorLow) | (dw['Angka'] > minorHigh)])\n",
    "\n",
    "print('\\nMajor Outlier')\n",
    "\n",
    "print(dw[(dw['Angka'] < majorLow) | (dw['Angka'] > majorHigh)])"
   ]
  }
 ],
 "metadata": {
  "kernelspec": {
   "display_name": "Python 3",
   "language": "python",
   "name": "python3"
  },
  "language_info": {
   "codemirror_mode": {
    "name": "ipython",
    "version": 3
   },
   "file_extension": ".py",
   "mimetype": "text/x-python",
   "name": "python",
   "nbconvert_exporter": "python",
   "pygments_lexer": "ipython3",
   "version": "3.7.1"
  }
 },
 "nbformat": 4,
 "nbformat_minor": 2
}
